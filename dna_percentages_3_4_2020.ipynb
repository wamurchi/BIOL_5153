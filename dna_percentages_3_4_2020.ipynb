{
 "cells": [
  {
   "cell_type": "code",
   "execution_count": 1,
   "metadata": {},
   "outputs": [],
   "source": [
    "dna_percent = open(\"dna.txt\")"
   ]
  },
  {
   "cell_type": "code",
   "execution_count": 2,
   "metadata": {},
   "outputs": [],
   "source": [
    "dna_contents = dna_percent.read()"
   ]
  },
  {
   "cell_type": "code",
   "execution_count": 6,
   "metadata": {},
   "outputs": [
    {
     "name": "stdout",
     "output_type": "stream",
     "text": [
      "ACtTGccTACGaTGCACgTGAaTC\n",
      "CTTTGcGGgcAAaATtGTtGTACT\n",
      "GGgTTtAAcACGTATAGCcGCatG\n"
     ]
    }
   ],
   "source": [
    "print(dna_contents)\n"
   ]
  },
  {
   "cell_type": "code",
   "execution_count": 7,
   "metadata": {},
   "outputs": [],
   "source": [
    "base = (dna_contents)\n",
    "\n",
    "#Ignore case sensitivity\n",
    "'A' == 'a'\n",
    "'C' == 'c'\n",
    "'G' == 'g'\n",
    "'T' == 't'\n",
    "\n",
    "# count bases\n",
    "A_count = base.count('A')\n",
    "C_count = base.count('C')\n",
    "G_count = base.count('G')\n",
    "T_count = base.count('T')"
   ]
  },
  {
   "cell_type": "code",
   "execution_count": 8,
   "metadata": {},
   "outputs": [
    {
     "name": "stdout",
     "output_type": "stream",
     "text": [
      "A: 13\n",
      "C: 10\n",
      "G: 15\n",
      "T: 16\n"
     ]
    }
   ],
   "source": [
    "# now print the counts\n",
    "print(\"A: \" + str(A_count))\n",
    "print(\"C: \" + str(C_count))\n",
    "print(\"G: \" + str(G_count))\n",
    "print(\"T: \" + str(T_count))"
   ]
  },
  {
   "cell_type": "code",
   "execution_count": 9,
   "metadata": {},
   "outputs": [],
   "source": [
    "length = len(dna_contents)"
   ]
  },
  {
   "cell_type": "code",
   "execution_count": 11,
   "metadata": {},
   "outputs": [
    {
     "name": "stdout",
     "output_type": "stream",
     "text": [
      "74\n"
     ]
    }
   ],
   "source": [
    "print(length)"
   ]
  },
  {
   "cell_type": "code",
   "execution_count": 12,
   "metadata": {},
   "outputs": [],
   "source": [
    "#calculate percentages\n",
    "A_content = A_count / length\n",
    "C_content = C_count / length\n",
    "G_content = G_count / length\n",
    "T_content = T_count / length"
   ]
  },
  {
   "cell_type": "code",
   "execution_count": 13,
   "metadata": {},
   "outputs": [
    {
     "name": "stdout",
     "output_type": "stream",
     "text": [
      "A: 0.17567567567567569\n",
      "C: 0.13513513513513514\n",
      "G: 0.20270270270270271\n",
      "T: 0.21621621621621623\n"
     ]
    }
   ],
   "source": [
    "# now print the counts\n",
    "print(\"A: \" + str(A_content))\n",
    "print(\"C: \" + str(C_content))\n",
    "print(\"G: \" + str(G_content))\n",
    "print(\"T: \" + str(T_content))"
   ]
  },
  {
   "cell_type": "code",
   "execution_count": null,
   "metadata": {},
   "outputs": [],
   "source": []
  }
 ],
 "metadata": {
  "kernelspec": {
   "display_name": "Python 3",
   "language": "python",
   "name": "python3"
  },
  "language_info": {
   "codemirror_mode": {
    "name": "ipython",
    "version": 3
   },
   "file_extension": ".py",
   "mimetype": "text/x-python",
   "name": "python",
   "nbconvert_exporter": "python",
   "pygments_lexer": "ipython3",
   "version": "3.7.4"
  }
 },
 "nbformat": 4,
 "nbformat_minor": 2
}
